{
 "cells": [
  {
   "cell_type": "markdown",
   "metadata": {},
   "source": [
    "# Exploring and Transforming JSON Schemas - Lab"
   ]
  },
  {
   "cell_type": "markdown",
   "metadata": {},
   "source": [
    "# Introduction\n",
    "\n",
    "In this lab, you'll practice exploring a JSON file whose structure and schema is unknown to you. We will provide you with limited information, and you will explore the dataset to answer the specified question."
   ]
  },
  {
   "cell_type": "markdown",
   "metadata": {},
   "source": [
    "## Objectives\n",
    "\n",
    "You will be able to:\n",
    "\n",
    "* Use the `json` module to load and parse JSON documents\n",
    "* Explore and extract data using unknown JSON schemas\n",
    "* Convert JSON to a pandas dataframe"
   ]
  },
  {
   "cell_type": "markdown",
   "metadata": {},
   "source": [
    "## Your Task: Create a Bar Graph of the Top 10 States with the Highest Asthma Rates for Adults Age 18+\n",
    "\n",
    "The information you need to create this graph is located in `disease_data.json`. It contains both data and metadata.\n",
    "\n",
    "You are given the following codebook/data dictionary:\n",
    "\n",
    "* The actual data values are associated with the key `'DataValue'`\n",
    "* The state names are associated with the key `'LocationDesc'`\n",
    "* To filter to the appropriate records, make sure:\n",
    "  * The `'Question'` is `'Current asthma prevalence among adults aged >= 18 years'`\n",
    "  * The `'StratificationCategoryID1'` is `'OVERALL'`\n",
    "  * The `'DataValueTypeID'` is `'CRDPREV'`\n",
    "  * The `'LocationDesc'` is not `'United States'`\n",
    "  \n",
    "The provided JSON file contains both data and metadata, and you will need to parse the metadata in order to understand the meanings of the values in the data.\n",
    "\n",
    "No further information about the structure of this file is provided."
   ]
  },
  {
   "cell_type": "markdown",
   "metadata": {},
   "source": [
    "## Load the JSON File\n",
    "\n",
    "Load the data from the file `disease_data.json` into a variable `data`."
   ]
  },
  {
   "cell_type": "code",
   "execution_count": 3,
   "metadata": {},
   "outputs": [],
   "source": [
    "# Your code here \n",
    "import json\n",
    "with open('disease_data.json') as file:\n",
    "     data = json.load(file)"
   ]
  },
  {
   "cell_type": "markdown",
   "metadata": {},
   "source": [
    "## Explore the Overall Structure\n",
    "\n",
    "What is the overall data type of `data`?"
   ]
  },
  {
   "cell_type": "code",
   "execution_count": 4,
   "metadata": {},
   "outputs": [
    {
     "name": "stdout",
     "output_type": "stream",
     "text": [
      "<class 'dict'>\n"
     ]
    }
   ],
   "source": [
    "# Your code here\n",
    "print(type(data))"
   ]
  },
  {
   "cell_type": "markdown",
   "metadata": {},
   "source": [
    "What are the keys?"
   ]
  },
  {
   "cell_type": "code",
   "execution_count": 5,
   "metadata": {},
   "outputs": [
    {
     "data": {
      "text/plain": [
       "dict_keys(['meta', 'data'])"
      ]
     },
     "execution_count": 5,
     "metadata": {},
     "output_type": "execute_result"
    }
   ],
   "source": [
    "# Your code here\n",
    "data.keys()"
   ]
  },
  {
   "cell_type": "markdown",
   "metadata": {},
   "source": [
    "What are the data types associates with those keys?"
   ]
  },
  {
   "cell_type": "code",
   "execution_count": 10,
   "metadata": {},
   "outputs": [
    {
     "data": {
      "text/plain": [
       "list"
      ]
     },
     "execution_count": 10,
     "metadata": {},
     "output_type": "execute_result"
    }
   ],
   "source": [
    "# Your code here (data)\n",
    "type(data['data'])"
   ]
  },
  {
   "cell_type": "code",
   "execution_count": 9,
   "metadata": {},
   "outputs": [
    {
     "data": {
      "text/plain": [
       "dict"
      ]
     },
     "execution_count": 9,
     "metadata": {},
     "output_type": "execute_result"
    }
   ],
   "source": [
    "# Your code here (metadata)\n",
    "type(data['meta'])"
   ]
  },
  {
   "cell_type": "markdown",
   "metadata": {},
   "source": [
    "Perform additional exploration to understand the contents of these values. For dictionaries, what are their keys? For lists, what is the length, and what does the first element look like?"
   ]
  },
  {
   "cell_type": "code",
   "execution_count": 28,
   "metadata": {},
   "outputs": [
    {
     "name": "stdout",
     "output_type": "stream",
     "text": [
      "['view']\n"
     ]
    }
   ],
   "source": [
    "# Your code here (add additional cells as needed)\n",
    "meta_keys = list(data['meta'].keys())\n",
    "\n",
    "print(meta_keys)"
   ]
  },
  {
   "cell_type": "code",
   "execution_count": 29,
   "metadata": {},
   "outputs": [
    {
     "name": "stdout",
     "output_type": "stream",
     "text": [
      "60266\n"
     ]
    }
   ],
   "source": [
    "data_length = len(data['data'])\n",
    "\n",
    "print(data_length)\n"
   ]
  },
  {
   "cell_type": "code",
   "execution_count": 32,
   "metadata": {},
   "outputs": [
    {
     "data": {
      "text/plain": [
       "[1,\n",
       " 'FF49C41F-CE8D-46C4-9164-653B1227CF6F',\n",
       " 1,\n",
       " 1527194521,\n",
       " '959778',\n",
       " 1527194521,\n",
       " '959778',\n",
       " None,\n",
       " '2016',\n",
       " '2016',\n",
       " 'US',\n",
       " 'United States',\n",
       " 'BRFSS',\n",
       " 'Alcohol',\n",
       " 'Binge drinking prevalence among adults aged >= 18 years',\n",
       " None,\n",
       " '%',\n",
       " 'Crude Prevalence',\n",
       " '16.9',\n",
       " '16.9',\n",
       " '*',\n",
       " '50 States + DC: US Median',\n",
       " '16',\n",
       " '18',\n",
       " 'Overall',\n",
       " 'Overall',\n",
       " None,\n",
       " None,\n",
       " None,\n",
       " None,\n",
       " [None, None, None, None, None],\n",
       " None,\n",
       " '59',\n",
       " 'ALC',\n",
       " 'ALC2_2',\n",
       " 'CRDPREV',\n",
       " 'OVERALL',\n",
       " 'OVR',\n",
       " None,\n",
       " None,\n",
       " None,\n",
       " None]"
      ]
     },
     "execution_count": 32,
     "metadata": {},
     "output_type": "execute_result"
    }
   ],
   "source": [
    "data['data'][0]"
   ]
  },
  {
   "cell_type": "markdown",
   "metadata": {},
   "source": [
    "As you likely identified, we have a list of lists forming the `'data'`. In order to make sense of that list of lists, we need to find the meaning of each index, i.e. the names of the columns.\n",
    "\n",
    "## Identify the Column Names\n",
    "\n",
    "Look through the metadata to find the *names* of the columns, and assign that variable to `column_names`. This should be a list of strings. (If you just get the values associated with the `'columns'` key, you will have a list of dictionaries, not a list of strings.)"
   ]
  },
  {
   "cell_type": "code",
   "execution_count": 33,
   "metadata": {},
   "outputs": [
    {
     "name": "stdout",
     "output_type": "stream",
     "text": [
      "['sid', 'id', 'position', 'created_at', 'created_meta', 'updated_at', 'updated_meta', 'meta', 'YearStart', 'YearEnd', 'LocationAbbr', 'LocationDesc', 'DataSource', 'Topic', 'Question', 'Response', 'DataValueUnit', 'DataValueType', 'DataValue', 'DataValueAlt', 'DataValueFootnoteSymbol', 'DatavalueFootnote', 'LowConfidenceLimit', 'HighConfidenceLimit', 'StratificationCategory1', 'Stratification1', 'StratificationCategory2', 'Stratification2', 'StratificationCategory3', 'Stratification3', 'GeoLocation', 'ResponseID', 'LocationID', 'TopicID', 'QuestionID', 'DataValueTypeID', 'StratificationCategoryID1', 'StratificationID1', 'StratificationCategoryID2', 'StratificationID2', 'StratificationCategoryID3', 'StratificationID3']\n"
     ]
    }
   ],
   "source": [
    "# Your code here (add additional cells as needed)\n",
    "column_metadata = data['meta']['view']['columns']\n",
    "column_names = [col['name'] for col in column_metadata]\n",
    "print(column_names)"
   ]
  },
  {
   "cell_type": "markdown",
   "metadata": {},
   "source": [
    "The following code checks that you have the correct column names:"
   ]
  },
  {
   "cell_type": "code",
   "execution_count": 41,
   "metadata": {},
   "outputs": [],
   "source": [
    "# Run this cell without changes\n",
    "\n",
    "# 42 total columns\n",
    "assert len(column_names) == 42\n",
    "\n",
    "# Each name should be a string, not a dict\n",
    "assert type(column_names[0]) == str and type(column_names[-1]) == str\n",
    "\n",
    "# Check that we have some specific strings\n",
    "assert \"DataValue\" in column_names\n",
    "assert \"LocationDesc\" in column_names\n",
    "assert \"Question\" in column_names\n",
    "assert \"StratificationCategoryID1\" in column_names\n",
    "assert \"DataValueTypeID\" in column_names"
   ]
  },
  {
   "cell_type": "markdown",
   "metadata": {},
   "source": [
    "## Filter Rows Based on Columns\n",
    "\n",
    "Recall that we only want to include records where:\n",
    "\n",
    "* The `'Question'` is `'Current asthma prevalence among adults aged >= 18 years'`\n",
    "* The `'StratificationCategoryID1'` is `'OVERALL'`\n",
    "* The `'DataValueTypeID'` is `'CRDPREV'`\n",
    "* The `'LocationDesc'` is not `'United States'`\n",
    "\n",
    "Combining knowledge of the data and metadata, filter out the rows of data that are not relevant.\n",
    "\n",
    "(You may find the `pandas` library useful here.)"
   ]
  },
  {
   "cell_type": "code",
   "execution_count": 46,
   "metadata": {},
   "outputs": [
    {
     "ename": "AttributeError",
     "evalue": "'str' object has no attribute 'get'",
     "output_type": "error",
     "traceback": [
      "\u001b[1;31m---------------------------------------------------------------------------\u001b[0m",
      "\u001b[1;31mAttributeError\u001b[0m                            Traceback (most recent call last)",
      "\u001b[1;32m<ipython-input-46-b7dc9f2da1fb>\u001b[0m in \u001b[0;36m<module>\u001b[1;34m\u001b[0m\n\u001b[0;32m      1\u001b[0m \u001b[1;31m# Your code here (add additional cells as needed)\u001b[0m\u001b[1;33m\u001b[0m\u001b[1;33m\u001b[0m\u001b[1;33m\u001b[0m\u001b[0m\n\u001b[1;32m----> 2\u001b[1;33m filtered_data = [\n\u001b[0m\u001b[0;32m      3\u001b[0m     \u001b[0mitem\u001b[0m \u001b[1;32mfor\u001b[0m \u001b[0mitem\u001b[0m \u001b[1;32min\u001b[0m \u001b[0mdata\u001b[0m\u001b[1;33m\u001b[0m\u001b[1;33m\u001b[0m\u001b[0m\n\u001b[0;32m      4\u001b[0m     \u001b[1;32mif\u001b[0m \u001b[0mitem\u001b[0m\u001b[1;33m.\u001b[0m\u001b[0mget\u001b[0m\u001b[1;33m(\u001b[0m\u001b[1;34m'Question'\u001b[0m\u001b[1;33m)\u001b[0m \u001b[1;33m==\u001b[0m \u001b[1;34m'Current asthma prevalence among adults aged >= 18 years'\u001b[0m\u001b[1;33m\u001b[0m\u001b[1;33m\u001b[0m\u001b[0m\n\u001b[0;32m      5\u001b[0m     \u001b[1;32mand\u001b[0m \u001b[0mitem\u001b[0m\u001b[1;33m.\u001b[0m\u001b[0mget\u001b[0m\u001b[1;33m(\u001b[0m\u001b[1;34m'StratificationCategoryID1'\u001b[0m\u001b[1;33m)\u001b[0m \u001b[1;33m==\u001b[0m \u001b[1;34m'OVERALL'\u001b[0m\u001b[1;33m\u001b[0m\u001b[1;33m\u001b[0m\u001b[0m\n",
      "\u001b[1;32m<ipython-input-46-b7dc9f2da1fb>\u001b[0m in \u001b[0;36m<listcomp>\u001b[1;34m(.0)\u001b[0m\n\u001b[0;32m      2\u001b[0m filtered_data = [\n\u001b[0;32m      3\u001b[0m     \u001b[0mitem\u001b[0m \u001b[1;32mfor\u001b[0m \u001b[0mitem\u001b[0m \u001b[1;32min\u001b[0m \u001b[0mdata\u001b[0m\u001b[1;33m\u001b[0m\u001b[1;33m\u001b[0m\u001b[0m\n\u001b[1;32m----> 4\u001b[1;33m     \u001b[1;32mif\u001b[0m \u001b[0mitem\u001b[0m\u001b[1;33m.\u001b[0m\u001b[0mget\u001b[0m\u001b[1;33m(\u001b[0m\u001b[1;34m'Question'\u001b[0m\u001b[1;33m)\u001b[0m \u001b[1;33m==\u001b[0m \u001b[1;34m'Current asthma prevalence among adults aged >= 18 years'\u001b[0m\u001b[1;33m\u001b[0m\u001b[1;33m\u001b[0m\u001b[0m\n\u001b[0m\u001b[0;32m      5\u001b[0m     \u001b[1;32mand\u001b[0m \u001b[0mitem\u001b[0m\u001b[1;33m.\u001b[0m\u001b[0mget\u001b[0m\u001b[1;33m(\u001b[0m\u001b[1;34m'StratificationCategoryID1'\u001b[0m\u001b[1;33m)\u001b[0m \u001b[1;33m==\u001b[0m \u001b[1;34m'OVERALL'\u001b[0m\u001b[1;33m\u001b[0m\u001b[1;33m\u001b[0m\u001b[0m\n\u001b[0;32m      6\u001b[0m     \u001b[1;32mand\u001b[0m \u001b[0mitem\u001b[0m\u001b[1;33m.\u001b[0m\u001b[0mget\u001b[0m\u001b[1;33m(\u001b[0m\u001b[1;34m'DataValueTypeID'\u001b[0m\u001b[1;33m)\u001b[0m \u001b[1;33m==\u001b[0m \u001b[1;34m'CRDPREV'\u001b[0m\u001b[1;33m\u001b[0m\u001b[1;33m\u001b[0m\u001b[0m\n",
      "\u001b[1;31mAttributeError\u001b[0m: 'str' object has no attribute 'get'"
     ]
    }
   ],
   "source": [
    "# Your code here (add additional cells as needed)\n",
    "filtered_data = [\n",
    "    item for item in data\n",
    "    if item.get('Question') == 'Current asthma prevalence among adults aged >= 18 years'\n",
    "    and item.get('StratificationCategoryID1') == 'OVERALL'\n",
    "    and item.get('DataValueTypeID') == 'CRDPREV'\n",
    "    and item.get('LocationDesc') != 'United States'\n",
    "]"
   ]
  },
  {
   "cell_type": "code",
   "execution_count": 43,
   "metadata": {},
   "outputs": [],
   "source": [
    "filtered_data = [\n",
    "    item for item in data\n",
    "    if isinstance(item, dict)\n",
    "    and item.get('Question') == 'Current asthma prevalence among adults aged >= 18 years'\n",
    "    and item.get('StratificationCategoryID1') == 'OVERALL'\n",
    "    and item.get('DataValueTypeID') == 'CRDPREV'\n",
    "    and item.get('LocationDesc') != 'United States'\n",
    "]"
   ]
  },
  {
   "cell_type": "markdown",
   "metadata": {},
   "source": [
    "You should have 54 records after filtering.\n",
    "\n",
    "## Extract the Attributes Required for Plotting\n",
    "\n",
    "For each record, the only information we actually need for the graph is the `'DataValue'` and `'LocationDesc'`. Create a list of records that only contains these two attributes.\n",
    "\n",
    "Also, make sure that the data values are numbers, not strings."
   ]
  },
  {
   "cell_type": "code",
   "execution_count": 36,
   "metadata": {},
   "outputs": [],
   "source": [
    "# Your code here (create additional cells as needed)\n",
    "states = [item['LocationDesc'] for item in filtered_data]\n",
    "values = [float(item['DataValue']) for item in filtered_data]\n"
   ]
  },
  {
   "cell_type": "markdown",
   "metadata": {},
   "source": [
    "## Find Top 10 States\n",
    "\n",
    "Sort by `'DataValue'` and limit to the first 10 records."
   ]
  },
  {
   "cell_type": "code",
   "execution_count": null,
   "metadata": {},
   "outputs": [],
   "source": [
    "# Your code here (add additional cells as needed)"
   ]
  },
  {
   "cell_type": "markdown",
   "metadata": {},
   "source": [
    "## Separate the Names and Values for Plotting\n",
    "\n",
    "Assign the names of the top 10 states to a list-like variable `names`, and the associated values to a list-like variable `values`. Then the plotting code below should work correctly to make the desired bar graph."
   ]
  },
  {
   "cell_type": "code",
   "execution_count": null,
   "metadata": {},
   "outputs": [],
   "source": [
    "# Replace None with appropriate code\n",
    "\n",
    "names = None\n",
    "values = None"
   ]
  },
  {
   "cell_type": "code",
   "execution_count": null,
   "metadata": {},
   "outputs": [],
   "source": [
    "# Run this cell without changes\n",
    "\n",
    "import matplotlib.pyplot as plt\n",
    "fig, ax = plt.subplots()\n",
    "\n",
    "ax.barh(names[::-1], values[::-1]) # Values inverted so highest is at top\n",
    "ax.set_title('Adult Asthma Rates by State in 2016')\n",
    "ax.set_xlabel('Percent 18+ with Asthma');"
   ]
  },
  {
   "cell_type": "markdown",
   "metadata": {},
   "source": [
    "## Summary\n",
    "\n",
    "In this lab you got some extended practice exploring the structure of JSON files and visualizing data."
   ]
  }
 ],
 "metadata": {
  "kernelspec": {
   "display_name": "Python (learn-env)",
   "language": "python",
   "name": "learn-env"
  },
  "language_info": {
   "codemirror_mode": {
    "name": "ipython",
    "version": 3
   },
   "file_extension": ".py",
   "mimetype": "text/x-python",
   "name": "python",
   "nbconvert_exporter": "python",
   "pygments_lexer": "ipython3",
   "version": "3.8.5"
  },
  "toc": {
   "base_numbering": 1,
   "nav_menu": {},
   "number_sections": true,
   "sideBar": true,
   "skip_h1_title": false,
   "title_cell": "Table of Contents",
   "title_sidebar": "Contents",
   "toc_cell": false,
   "toc_position": {},
   "toc_section_display": true,
   "toc_window_display": false
  }
 },
 "nbformat": 4,
 "nbformat_minor": 2
}
